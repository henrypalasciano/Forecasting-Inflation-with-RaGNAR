{
 "cells": [
  {
   "cell_type": "markdown",
   "metadata": {},
   "source": [
    "# Amazon Chronos"
   ]
  },
  {
   "cell_type": "code",
   "execution_count": 2,
   "metadata": {},
   "outputs": [
    {
     "name": "stderr",
     "output_type": "stream",
     "text": [
      "/Users/henry/anaconda3/lib/python3.10/site-packages/tqdm/auto.py:21: TqdmWarning: IProgress not found. Please update jupyter and ipywidgets. See https://ipywidgets.readthedocs.io/en/stable/user_install.html\n",
      "  from .autonotebook import tqdm as notebook_tqdm\n"
     ]
    }
   ],
   "source": [
    "from chronos import BaseChronosPipeline\n",
    "import torch\n",
    "import pandas as pd\n",
    "import numpy as np\n",
    "from methodology.forecasting import compute_rmse_df"
   ]
  },
  {
   "cell_type": "code",
   "execution_count": 3,
   "metadata": {},
   "outputs": [],
   "source": [
    "# Load the data and calculate the inflation rate\n",
    "cpi_monthly_data = pd.read_csv(\"methodology/data/cpi_monthly_data.csv\", index_col=0)\n",
    "cpi = cpi_monthly_data[[\"00\"]]\n",
    "inflation_rate = cpi.pct_change(12).dropna(how=\"all\") * 100\n",
    "inflation_rate.columns = [\"Inflation Rate\"]\n",
    "inflation_rate.index = pd.to_datetime(inflation_rate.index)"
   ]
  },
  {
   "cell_type": "code",
   "execution_count": 4,
   "metadata": {},
   "outputs": [],
   "source": [
    "dates = inflation_rate.loc[\"2009-12-01\":\"2024-11-01\"].index\n",
    "models = [\"Chronos (Tiny)\", \"Chronos (Base)\", \"Chronos (Large)\"]\n",
    "chronos_df = pd.DataFrame(index=dates, columns=pd.MultiIndex.from_product([models, range(1, 13)]))"
   ]
  },
  {
   "cell_type": "code",
   "execution_count": 5,
   "metadata": {},
   "outputs": [],
   "source": [
    "# Chronos (Tiny)\n",
    "pipeline = BaseChronosPipeline.from_pretrained(\n",
    "    \"amazon/chronos-t5-tiny\", \n",
    "    device_map=\"cpu\",\n",
    "    torch_dtype=torch.bfloat16,\n",
    ")\n",
    "\n",
    "for date in dates:\n",
    "    # Get the inflation rate data up to the current time step\n",
    "    past_data = inflation_rate.loc[:date].to_numpy().flatten()\n",
    "    # Make a forecast for the next 12 months\n",
    "    quantiles, mean = pipeline.predict_quantiles(\n",
    "        context=torch.tensor(past_data),\n",
    "        prediction_length=12,\n",
    "        quantile_levels=[0.1, 0.5, 0.9],\n",
    "    )\n",
    "    chronos_df.loc[date, \"Chronos (Tiny)\"] = mean.flatten().numpy()"
   ]
  },
  {
   "cell_type": "code",
   "execution_count": 9,
   "metadata": {},
   "outputs": [],
   "source": [
    "# Chronos (Base)\n",
    "pipeline = BaseChronosPipeline.from_pretrained(\n",
    "    \"amazon/chronos-t5-base\", \n",
    "    device_map=\"cpu\",\n",
    "    torch_dtype=torch.bfloat16,\n",
    ")\n",
    "\n",
    "for date in dates:\n",
    "    # Get the inflation rate data up to the current time step\n",
    "    past_data = inflation_rate.loc[:date].to_numpy().flatten()\n",
    "    # Make a forecast for the next 12 months\n",
    "    quantiles, mean = pipeline.predict_quantiles(\n",
    "        context=torch.tensor(past_data),\n",
    "        prediction_length=12,\n",
    "        quantile_levels=[0.1, 0.5, 0.9],\n",
    "    )\n",
    "    chronos_df.loc[date, \"Chronos (Base)\"] = mean.flatten().numpy()"
   ]
  },
  {
   "cell_type": "code",
   "execution_count": 13,
   "metadata": {},
   "outputs": [],
   "source": [
    "# Chronos (Large)\n",
    "pipeline = BaseChronosPipeline.from_pretrained(\n",
    "    \"amazon/chronos-t5-large\", \n",
    "    device_map=\"cpu\",\n",
    "    torch_dtype=torch.bfloat16,\n",
    ")\n",
    "\n",
    "for date in dates:\n",
    "    # Get the inflation rate data up to the current time step\n",
    "    past_data = inflation_rate.loc[:date].to_numpy().flatten()\n",
    "    # Make a forecast for the next 12 months\n",
    "    quantiles, mean = pipeline.predict_quantiles(\n",
    "        context=torch.tensor(past_data),\n",
    "        prediction_length=12,\n",
    "        quantile_levels=[0.1, 0.5, 0.9],\n",
    "    )\n",
    "    chronos_df.loc[date, \"Chronos (Large)\"] = mean.flatten().numpy()"
   ]
  },
  {
   "cell_type": "code",
   "execution_count": 14,
   "metadata": {},
   "outputs": [
    {
     "data": {
      "text/html": [
       "<div>\n",
       "<style scoped>\n",
       "    .dataframe tbody tr th:only-of-type {\n",
       "        vertical-align: middle;\n",
       "    }\n",
       "\n",
       "    .dataframe tbody tr th {\n",
       "        vertical-align: top;\n",
       "    }\n",
       "\n",
       "    .dataframe thead th {\n",
       "        text-align: right;\n",
       "    }\n",
       "</style>\n",
       "<table border=\"1\" class=\"dataframe\">\n",
       "  <thead>\n",
       "    <tr style=\"text-align: right;\">\n",
       "      <th></th>\n",
       "      <th>Chronos (Tiny)</th>\n",
       "      <th>Chronos (Base)</th>\n",
       "      <th>Chronos (Large)</th>\n",
       "    </tr>\n",
       "  </thead>\n",
       "  <tbody>\n",
       "    <tr>\n",
       "      <th>1</th>\n",
       "      <td>0.414401</td>\n",
       "      <td>0.432217</td>\n",
       "      <td>0.429231</td>\n",
       "    </tr>\n",
       "    <tr>\n",
       "      <th>2</th>\n",
       "      <td>0.632304</td>\n",
       "      <td>0.655870</td>\n",
       "      <td>0.647211</td>\n",
       "    </tr>\n",
       "    <tr>\n",
       "      <th>3</th>\n",
       "      <td>0.835744</td>\n",
       "      <td>0.839278</td>\n",
       "      <td>0.831425</td>\n",
       "    </tr>\n",
       "    <tr>\n",
       "      <th>4</th>\n",
       "      <td>1.053941</td>\n",
       "      <td>1.059065</td>\n",
       "      <td>1.041964</td>\n",
       "    </tr>\n",
       "    <tr>\n",
       "      <th>5</th>\n",
       "      <td>1.291431</td>\n",
       "      <td>1.288409</td>\n",
       "      <td>1.269807</td>\n",
       "    </tr>\n",
       "    <tr>\n",
       "      <th>6</th>\n",
       "      <td>1.531713</td>\n",
       "      <td>1.497005</td>\n",
       "      <td>1.473674</td>\n",
       "    </tr>\n",
       "    <tr>\n",
       "      <th>7</th>\n",
       "      <td>1.764678</td>\n",
       "      <td>1.723224</td>\n",
       "      <td>1.688165</td>\n",
       "    </tr>\n",
       "    <tr>\n",
       "      <th>8</th>\n",
       "      <td>2.001192</td>\n",
       "      <td>1.949767</td>\n",
       "      <td>1.900940</td>\n",
       "    </tr>\n",
       "    <tr>\n",
       "      <th>9</th>\n",
       "      <td>2.221752</td>\n",
       "      <td>2.154053</td>\n",
       "      <td>2.096347</td>\n",
       "    </tr>\n",
       "    <tr>\n",
       "      <th>10</th>\n",
       "      <td>2.416971</td>\n",
       "      <td>2.320989</td>\n",
       "      <td>2.261194</td>\n",
       "    </tr>\n",
       "    <tr>\n",
       "      <th>11</th>\n",
       "      <td>2.622570</td>\n",
       "      <td>2.496433</td>\n",
       "      <td>2.427535</td>\n",
       "    </tr>\n",
       "    <tr>\n",
       "      <th>12</th>\n",
       "      <td>2.822006</td>\n",
       "      <td>2.684792</td>\n",
       "      <td>2.594714</td>\n",
       "    </tr>\n",
       "  </tbody>\n",
       "</table>\n",
       "</div>"
      ],
      "text/plain": [
       "    Chronos (Tiny)  Chronos (Base)  Chronos (Large)\n",
       "1         0.414401        0.432217         0.429231\n",
       "2         0.632304        0.655870         0.647211\n",
       "3         0.835744        0.839278         0.831425\n",
       "4         1.053941        1.059065         1.041964\n",
       "5         1.291431        1.288409         1.269807\n",
       "6         1.531713        1.497005         1.473674\n",
       "7         1.764678        1.723224         1.688165\n",
       "8         2.001192        1.949767         1.900940\n",
       "9         2.221752        2.154053         2.096347\n",
       "10        2.416971        2.320989         2.261194\n",
       "11        2.622570        2.496433         2.427535\n",
       "12        2.822006        2.684792         2.594714"
      ]
     },
     "execution_count": 14,
     "metadata": {},
     "output_type": "execute_result"
    }
   ],
   "source": [
    "compute_rmse_df(chronos_df)"
   ]
  },
  {
   "cell_type": "code",
   "execution_count": 15,
   "metadata": {},
   "outputs": [],
   "source": [
    "chronos_df.to_csv(\"results/benchmarks/chronos_forecasts.csv\")"
   ]
  }
 ],
 "metadata": {
  "kernelspec": {
   "display_name": "base",
   "language": "python",
   "name": "python3"
  },
  "language_info": {
   "codemirror_mode": {
    "name": "ipython",
    "version": 3
   },
   "file_extension": ".py",
   "mimetype": "text/x-python",
   "name": "python",
   "nbconvert_exporter": "python",
   "pygments_lexer": "ipython3",
   "version": "3.10.14"
  }
 },
 "nbformat": 4,
 "nbformat_minor": 2
}
