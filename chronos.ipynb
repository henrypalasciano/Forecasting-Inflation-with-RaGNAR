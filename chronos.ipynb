{
 "cells": [
  {
   "cell_type": "markdown",
   "metadata": {},
   "source": [
    "# Amazon Chronos"
   ]
  },
  {
   "cell_type": "code",
   "execution_count": 2,
   "metadata": {},
   "outputs": [
    {
     "name": "stderr",
     "output_type": "stream",
     "text": [
      "/Users/henry/anaconda3/lib/python3.10/site-packages/tqdm/auto.py:21: TqdmWarning: IProgress not found. Please update jupyter and ipywidgets. See https://ipywidgets.readthedocs.io/en/stable/user_install.html\n",
      "  from .autonotebook import tqdm as notebook_tqdm\n"
     ]
    }
   ],
   "source": [
    "from chronos import BaseChronosPipeline\n",
    "import torch\n",
    "import pandas as pd\n",
    "import numpy as np\n",
    "from methodology.forecasting import compute_rmse_df"
   ]
  },
  {
   "cell_type": "code",
   "execution_count": 3,
   "metadata": {},
   "outputs": [],
   "source": [
    "# Load the data and calculate the inflation rate\n",
    "cpi_monthly_data = pd.read_csv(\"methodology/data/cpi_monthly_data.csv\", index_col=0)\n",
    "cpi = cpi_monthly_data[[\"00\"]]\n",
    "inflation_rate = cpi.pct_change(12).dropna(how=\"all\") * 100\n",
    "inflation_rate.columns = [\"Inflation Rate\"]\n",
    "inflation_rate.index = pd.to_datetime(inflation_rate.index)"
   ]
  },
  {
   "cell_type": "code",
   "execution_count": 4,
   "metadata": {},
   "outputs": [],
   "source": [
    "dates = inflation_rate.loc[\"2009-12-01\":\"2024-11-01\"].index\n",
    "models = [\"Chronos (Tiny)\", \"Chronos (Base)\", \"Chronos (Large)\"]\n",
    "chronos_df = pd.DataFrame(index=dates, columns=pd.MultiIndex.from_product([models, range(1, 13)]))"
   ]
  },
  {
   "cell_type": "code",
   "execution_count": 5,
   "metadata": {},
   "outputs": [],
   "source": [
    "# Chronos (Tiny)\n",
    "pipeline = BaseChronosPipeline.from_pretrained(\n",
    "    \"amazon/chronos-t5-tiny\", \n",
    "    device_map=\"cpu\",\n",
    "    torch_dtype=torch.bfloat16,\n",
    ")\n",
    "\n",
    "for date in dates:\n",
    "    # Get the inflation rate data up to the current time step\n",
    "    past_data = inflation_rate.loc[:date].to_numpy().flatten()\n",
    "    # Make a forecast for the next 12 months\n",
    "    quantiles, mean = pipeline.predict_quantiles(\n",
    "        context=torch.tensor(past_data),\n",
    "        prediction_length=12,\n",
    "        quantile_levels=[0.1, 0.5, 0.9],\n",
    "    )\n",
    "    chronos_df.loc[date, \"Chronos (Tiny)\"] = mean.flatten().numpy()"
   ]
  },
  {
   "cell_type": "code",
   "execution_count": 9,
   "metadata": {},
   "outputs": [],
   "source": [
    "# Chronos (Base)\n",
    "pipeline = BaseChronosPipeline.from_pretrained(\n",
    "    \"amazon/chronos-t5-base\", \n",
    "    device_map=\"cpu\",\n",
    "    torch_dtype=torch.bfloat16,\n",
    ")\n",
    "\n",
    "for date in dates:\n",
    "    # Get the inflation rate data up to the current time step\n",
    "    past_data = inflation_rate.loc[:date].to_numpy().flatten()\n",
    "    # Make a forecast for the next 12 months\n",
    "    quantiles, mean = pipeline.predict_quantiles(\n",
    "        context=torch.tensor(past_data),\n",
    "        prediction_length=12,\n",
    "        quantile_levels=[0.1, 0.5, 0.9],\n",
    "    )\n",
    "    chronos_df.loc[date, \"Chronos (Base)\"] = mean.flatten().numpy()"
   ]
  },
  {
   "cell_type": "code",
   "execution_count": 13,
   "metadata": {},
   "outputs": [],
   "source": [
    "# Chronos (Large)\n",
    "pipeline = BaseChronosPipeline.from_pretrained(\n",
    "    \"amazon/chronos-t5-large\", \n",
    "    device_map=\"cpu\",\n",
    "    torch_dtype=torch.bfloat16,\n",
    ")\n",
    "\n",
    "for date in dates:\n",
    "    # Get the inflation rate data up to the current time step\n",
    "    past_data = inflation_rate.loc[:date].to_numpy().flatten()\n",
    "    # Make a forecast for the next 12 months\n",
    "    quantiles, mean = pipeline.predict_quantiles(\n",
    "        context=torch.tensor(past_data),\n",
    "        prediction_length=12,\n",
    "        quantile_levels=[0.1, 0.5, 0.9],\n",
    "    )\n",
    "    chronos_df.loc[date, \"Chronos (Large)\"] = mean.flatten().numpy()"
   ]
  },
  {
   "cell_type": "code",
   "execution_count": 17,
   "metadata": {},
   "outputs": [
    {
     "data": {
      "text/html": [
       "<div>\n",
       "<style scoped>\n",
       "    .dataframe tbody tr th:only-of-type {\n",
       "        vertical-align: middle;\n",
       "    }\n",
       "\n",
       "    .dataframe tbody tr th {\n",
       "        vertical-align: top;\n",
       "    }\n",
       "\n",
       "    .dataframe thead th {\n",
       "        text-align: right;\n",
       "    }\n",
       "</style>\n",
       "<table border=\"1\" class=\"dataframe\">\n",
       "  <thead>\n",
       "    <tr style=\"text-align: right;\">\n",
       "      <th></th>\n",
       "      <th>1</th>\n",
       "      <th>2</th>\n",
       "      <th>3</th>\n",
       "      <th>4</th>\n",
       "      <th>5</th>\n",
       "      <th>6</th>\n",
       "      <th>7</th>\n",
       "      <th>8</th>\n",
       "      <th>9</th>\n",
       "      <th>10</th>\n",
       "      <th>11</th>\n",
       "      <th>12</th>\n",
       "    </tr>\n",
       "  </thead>\n",
       "  <tbody>\n",
       "    <tr>\n",
       "      <th>Chronos (Tiny)</th>\n",
       "      <td>0.41</td>\n",
       "      <td>0.63</td>\n",
       "      <td>0.84</td>\n",
       "      <td>1.05</td>\n",
       "      <td>1.29</td>\n",
       "      <td>1.53</td>\n",
       "      <td>1.76</td>\n",
       "      <td>2.00</td>\n",
       "      <td>2.22</td>\n",
       "      <td>2.42</td>\n",
       "      <td>2.62</td>\n",
       "      <td>2.82</td>\n",
       "    </tr>\n",
       "    <tr>\n",
       "      <th>Chronos (Base)</th>\n",
       "      <td>0.43</td>\n",
       "      <td>0.66</td>\n",
       "      <td>0.84</td>\n",
       "      <td>1.06</td>\n",
       "      <td>1.29</td>\n",
       "      <td>1.50</td>\n",
       "      <td>1.72</td>\n",
       "      <td>1.95</td>\n",
       "      <td>2.15</td>\n",
       "      <td>2.32</td>\n",
       "      <td>2.50</td>\n",
       "      <td>2.68</td>\n",
       "    </tr>\n",
       "    <tr>\n",
       "      <th>Chronos (Large)</th>\n",
       "      <td>0.43</td>\n",
       "      <td>0.65</td>\n",
       "      <td>0.83</td>\n",
       "      <td>1.04</td>\n",
       "      <td>1.27</td>\n",
       "      <td>1.47</td>\n",
       "      <td>1.69</td>\n",
       "      <td>1.90</td>\n",
       "      <td>2.10</td>\n",
       "      <td>2.26</td>\n",
       "      <td>2.43</td>\n",
       "      <td>2.59</td>\n",
       "    </tr>\n",
       "  </tbody>\n",
       "</table>\n",
       "</div>"
      ],
      "text/plain": [
       "                   1     2     3     4     5     6     7     8     9     10  \\\n",
       "Chronos (Tiny)   0.41  0.63  0.84  1.05  1.29  1.53  1.76  2.00  2.22  2.42   \n",
       "Chronos (Base)   0.43  0.66  0.84  1.06  1.29  1.50  1.72  1.95  2.15  2.32   \n",
       "Chronos (Large)  0.43  0.65  0.83  1.04  1.27  1.47  1.69  1.90  2.10  2.26   \n",
       "\n",
       "                   11    12  \n",
       "Chronos (Tiny)   2.62  2.82  \n",
       "Chronos (Base)   2.50  2.68  \n",
       "Chronos (Large)  2.43  2.59  "
      ]
     },
     "execution_count": 17,
     "metadata": {},
     "output_type": "execute_result"
    }
   ],
   "source": [
    "np.round(compute_rmse_df(chronos_df).T, 2)"
   ]
  },
  {
   "cell_type": "code",
   "execution_count": 15,
   "metadata": {},
   "outputs": [],
   "source": [
    "chronos_df.to_csv(\"results/benchmarks/chronos_forecasts.csv\")"
   ]
  }
 ],
 "metadata": {
  "kernelspec": {
   "display_name": "base",
   "language": "python",
   "name": "python3"
  },
  "language_info": {
   "codemirror_mode": {
    "name": "ipython",
    "version": 3
   },
   "file_extension": ".py",
   "mimetype": "text/x-python",
   "name": "python",
   "nbconvert_exporter": "python",
   "pygments_lexer": "ipython3",
   "version": "3.10.14"
  }
 },
 "nbformat": 4,
 "nbformat_minor": 2
}
