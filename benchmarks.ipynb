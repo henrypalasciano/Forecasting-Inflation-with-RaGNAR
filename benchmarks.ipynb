{
 "cells": [
  {
   "cell_type": "code",
   "execution_count": 12,
   "metadata": {},
   "outputs": [],
   "source": [
    "import numpy as np\n",
    "import pandas as pd\n",
    "\n",
    "from methodology.forecasting import compute_rmse_df, compute_mape_df\n",
    "\n",
    "import matplotlib.pyplot as plt\n",
    "import seaborn as sns\n",
    "sns.set(style=\"whitegrid\")\n",
    "\n",
    "plt.rcParams['xtick.labelsize'] = 12\n",
    "plt.rcParams['ytick.labelsize'] = 12\n",
    "plt.rcParams['xtick.bottom'] = True\n",
    "plt.rcParams['ytick.left'] = True"
   ]
  },
  {
   "cell_type": "code",
   "execution_count": 13,
   "metadata": {},
   "outputs": [],
   "source": [
    "# Load the data and calculate the inflation rate\n",
    "cpi_monthly_data = pd.read_csv(\"methodology/data/cpi_monthly_data.csv\", index_col=0)\n",
    "cpi = cpi_monthly_data[[\"00\"]]\n",
    "inflation_rate = cpi.pct_change(12).dropna(how=\"all\") * 100\n",
    "inflation_rate.columns = [\"Inflation Rate\"]\n",
    "inflation_rate.index = pd.to_datetime(inflation_rate.index)"
   ]
  },
  {
   "cell_type": "markdown",
   "metadata": {},
   "source": [
    "## AR Processes"
   ]
  },
  {
   "cell_type": "code",
   "execution_count": 14,
   "metadata": {},
   "outputs": [],
   "source": [
    "from methodology.ar_forecasts import rolling_ar_forecast, rolling_bic_ar_forecast"
   ]
  },
  {
   "cell_type": "markdown",
   "metadata": {},
   "source": [
    "#### Fixed Order Models"
   ]
  },
  {
   "cell_type": "code",
   "execution_count": 24,
   "metadata": {},
   "outputs": [
    {
     "data": {
      "text/html": [
       "<div>\n",
       "<style scoped>\n",
       "    .dataframe tbody tr th:only-of-type {\n",
       "        vertical-align: middle;\n",
       "    }\n",
       "\n",
       "    .dataframe tbody tr th {\n",
       "        vertical-align: top;\n",
       "    }\n",
       "\n",
       "    .dataframe thead th {\n",
       "        text-align: right;\n",
       "    }\n",
       "</style>\n",
       "<table border=\"1\" class=\"dataframe\">\n",
       "  <thead>\n",
       "    <tr style=\"text-align: right;\">\n",
       "      <th></th>\n",
       "      <th>1</th>\n",
       "      <th>2</th>\n",
       "      <th>3</th>\n",
       "      <th>4</th>\n",
       "      <th>5</th>\n",
       "      <th>6</th>\n",
       "      <th>7</th>\n",
       "      <th>8</th>\n",
       "      <th>9</th>\n",
       "      <th>10</th>\n",
       "      <th>11</th>\n",
       "      <th>12</th>\n",
       "    </tr>\n",
       "  </thead>\n",
       "  <tbody>\n",
       "    <tr>\n",
       "      <th>AR(1)</th>\n",
       "      <td>0.43</td>\n",
       "      <td>0.68</td>\n",
       "      <td>0.91</td>\n",
       "      <td>1.15</td>\n",
       "      <td>1.41</td>\n",
       "      <td>1.66</td>\n",
       "      <td>1.93</td>\n",
       "      <td>2.19</td>\n",
       "      <td>2.45</td>\n",
       "      <td>2.68</td>\n",
       "      <td>2.92</td>\n",
       "      <td>3.17</td>\n",
       "    </tr>\n",
       "    <tr>\n",
       "      <th>AR(2)</th>\n",
       "      <td>0.43</td>\n",
       "      <td>0.66</td>\n",
       "      <td>0.87</td>\n",
       "      <td>1.11</td>\n",
       "      <td>1.35</td>\n",
       "      <td>1.59</td>\n",
       "      <td>1.84</td>\n",
       "      <td>2.08</td>\n",
       "      <td>2.32</td>\n",
       "      <td>2.53</td>\n",
       "      <td>2.74</td>\n",
       "      <td>2.96</td>\n",
       "    </tr>\n",
       "    <tr>\n",
       "      <th>AR(12)</th>\n",
       "      <td>0.40</td>\n",
       "      <td>0.59</td>\n",
       "      <td>0.75</td>\n",
       "      <td>0.94</td>\n",
       "      <td>1.14</td>\n",
       "      <td>1.33</td>\n",
       "      <td>1.55</td>\n",
       "      <td>1.76</td>\n",
       "      <td>1.95</td>\n",
       "      <td>2.11</td>\n",
       "      <td>2.28</td>\n",
       "      <td>2.46</td>\n",
       "    </tr>\n",
       "    <tr>\n",
       "      <th>AR(13)</th>\n",
       "      <td>0.38</td>\n",
       "      <td>0.59</td>\n",
       "      <td>0.78</td>\n",
       "      <td>0.97</td>\n",
       "      <td>1.18</td>\n",
       "      <td>1.38</td>\n",
       "      <td>1.61</td>\n",
       "      <td>1.83</td>\n",
       "      <td>2.02</td>\n",
       "      <td>2.19</td>\n",
       "      <td>2.38</td>\n",
       "      <td>2.58</td>\n",
       "    </tr>\n",
       "    <tr>\n",
       "      <th>AR(25)</th>\n",
       "      <td>0.37</td>\n",
       "      <td>0.57</td>\n",
       "      <td>0.73</td>\n",
       "      <td>0.93</td>\n",
       "      <td>1.13</td>\n",
       "      <td>1.32</td>\n",
       "      <td>1.57</td>\n",
       "      <td>1.80</td>\n",
       "      <td>2.02</td>\n",
       "      <td>2.23</td>\n",
       "      <td>2.44</td>\n",
       "      <td>2.66</td>\n",
       "    </tr>\n",
       "  </tbody>\n",
       "</table>\n",
       "</div>"
      ],
      "text/plain": [
       "          1     2     3     4     5     6     7     8     9     10    11    12\n",
       "AR(1)   0.43  0.68  0.91  1.15  1.41  1.66  1.93  2.19  2.45  2.68  2.92  3.17\n",
       "AR(2)   0.43  0.66  0.87  1.11  1.35  1.59  1.84  2.08  2.32  2.53  2.74  2.96\n",
       "AR(12)  0.40  0.59  0.75  0.94  1.14  1.33  1.55  1.76  1.95  2.11  2.28  2.46\n",
       "AR(13)  0.38  0.59  0.78  0.97  1.18  1.38  1.61  1.83  2.02  2.19  2.38  2.58\n",
       "AR(25)  0.37  0.57  0.73  0.93  1.13  1.32  1.57  1.80  2.02  2.23  2.44  2.66"
      ]
     },
     "execution_count": 24,
     "metadata": {},
     "output_type": "execute_result"
    }
   ],
   "source": [
    "ar_forecasts = []\n",
    "for p in [1, 2, 12, 13, 25]:\n",
    "    ar_forecasts.append(rolling_ar_forecast(inflation_rate, p, n=240, h=12, start=\"2009-12-01\", end=\"2024-11-01\"))\n",
    "ar_forecasts = pd.concat(ar_forecasts, axis=1)\n",
    "ar_forecasts.to_csv(\"results/benchmarks/fixed_order_ar_forecasts.csv\")\n",
    "np.round(compute_rmse_df(ar_forecasts).T, 2)"
   ]
  },
  {
   "cell_type": "markdown",
   "metadata": {},
   "source": [
    "#### BIC"
   ]
  },
  {
   "cell_type": "code",
   "execution_count": 25,
   "metadata": {},
   "outputs": [
    {
     "data": {
      "text/html": [
       "<div>\n",
       "<style scoped>\n",
       "    .dataframe tbody tr th:only-of-type {\n",
       "        vertical-align: middle;\n",
       "    }\n",
       "\n",
       "    .dataframe tbody tr th {\n",
       "        vertical-align: top;\n",
       "    }\n",
       "\n",
       "    .dataframe thead th {\n",
       "        text-align: right;\n",
       "    }\n",
       "</style>\n",
       "<table border=\"1\" class=\"dataframe\">\n",
       "  <thead>\n",
       "    <tr style=\"text-align: right;\">\n",
       "      <th></th>\n",
       "      <th>1</th>\n",
       "      <th>2</th>\n",
       "      <th>3</th>\n",
       "      <th>4</th>\n",
       "      <th>5</th>\n",
       "      <th>6</th>\n",
       "      <th>7</th>\n",
       "      <th>8</th>\n",
       "      <th>9</th>\n",
       "      <th>10</th>\n",
       "      <th>11</th>\n",
       "      <th>12</th>\n",
       "    </tr>\n",
       "  </thead>\n",
       "  <tbody>\n",
       "    <tr>\n",
       "      <th>AR(p)</th>\n",
       "      <td>0.41</td>\n",
       "      <td>0.6</td>\n",
       "      <td>0.79</td>\n",
       "      <td>1.01</td>\n",
       "      <td>1.22</td>\n",
       "      <td>1.43</td>\n",
       "      <td>1.67</td>\n",
       "      <td>1.91</td>\n",
       "      <td>2.13</td>\n",
       "      <td>2.32</td>\n",
       "      <td>2.52</td>\n",
       "      <td>2.73</td>\n",
       "    </tr>\n",
       "  </tbody>\n",
       "</table>\n",
       "</div>"
      ],
      "text/plain": [
       "         1    2     3     4     5     6     7     8     9     10    11    12\n",
       "AR(p)  0.41  0.6  0.79  1.01  1.22  1.43  1.67  1.91  2.13  2.32  2.52  2.73"
      ]
     },
     "execution_count": 25,
     "metadata": {},
     "output_type": "execute_result"
    }
   ],
   "source": [
    "bic_ar, bic_p = rolling_bic_ar_forecast(inflation_rate, 240, 12, \"2009-12-01\", \"2024-11-01\")\n",
    "bic_ar.to_csv(\"results/benchmarks/bic_ar_forecasts.csv\")\n",
    "np.round(compute_rmse_df(bic_ar).T, 2)"
   ]
  },
  {
   "cell_type": "code",
   "execution_count": 17,
   "metadata": {},
   "outputs": [
    {
     "data": {
      "text/plain": [
       "[<matplotlib.lines.Line2D at 0x14bc4d870>]"
      ]
     },
     "execution_count": 17,
     "metadata": {},
     "output_type": "execute_result"
    },
    {
     "data": {
      "image/png": "[encoded data removed]",
      "text/plain": [
       "<Figure size 800x400 with 1 Axes>"
      ]
     },
     "metadata": {},
     "output_type": "display_data"
    }
   ],
   "source": [
    "fig,ax = plt.subplots(figsize=(8,4))\n",
    "plt.plot(inflation_rate.loc[\"2009-12-01\":\"2024-11-01\"].index, bic_p)"
   ]
  },
  {
   "cell_type": "markdown",
   "metadata": {},
   "source": [
    "#### Model Averaging"
   ]
  },
  {
   "cell_type": "code",
   "execution_count": 26,
   "metadata": {},
   "outputs": [
    {
     "data": {
      "text/html": [
       "<div>\n",
       "<style scoped>\n",
       "    .dataframe tbody tr th:only-of-type {\n",
       "        vertical-align: middle;\n",
       "    }\n",
       "\n",
       "    .dataframe tbody tr th {\n",
       "        vertical-align: top;\n",
       "    }\n",
       "\n",
       "    .dataframe thead th {\n",
       "        text-align: right;\n",
       "    }\n",
       "</style>\n",
       "<table border=\"1\" class=\"dataframe\">\n",
       "  <thead>\n",
       "    <tr style=\"text-align: right;\">\n",
       "      <th></th>\n",
       "      <th>1</th>\n",
       "      <th>2</th>\n",
       "      <th>3</th>\n",
       "      <th>4</th>\n",
       "      <th>5</th>\n",
       "      <th>6</th>\n",
       "      <th>7</th>\n",
       "      <th>8</th>\n",
       "      <th>9</th>\n",
       "      <th>10</th>\n",
       "      <th>11</th>\n",
       "      <th>12</th>\n",
       "    </tr>\n",
       "  </thead>\n",
       "  <tbody>\n",
       "    <tr>\n",
       "      <th>AvAR({1,13,25})</th>\n",
       "      <td>0.37</td>\n",
       "      <td>0.57</td>\n",
       "      <td>0.74</td>\n",
       "      <td>0.94</td>\n",
       "      <td>1.13</td>\n",
       "      <td>1.32</td>\n",
       "      <td>1.55</td>\n",
       "      <td>1.76</td>\n",
       "      <td>1.96</td>\n",
       "      <td>2.14</td>\n",
       "      <td>2.33</td>\n",
       "      <td>2.54</td>\n",
       "    </tr>\n",
       "    <tr>\n",
       "      <th>AvAR({2,13,25})</th>\n",
       "      <td>0.37</td>\n",
       "      <td>0.57</td>\n",
       "      <td>0.74</td>\n",
       "      <td>0.93</td>\n",
       "      <td>1.13</td>\n",
       "      <td>1.32</td>\n",
       "      <td>1.54</td>\n",
       "      <td>1.75</td>\n",
       "      <td>1.95</td>\n",
       "      <td>2.12</td>\n",
       "      <td>2.31</td>\n",
       "      <td>2.51</td>\n",
       "    </tr>\n",
       "  </tbody>\n",
       "</table>\n",
       "</div>"
      ],
      "text/plain": [
       "                   1     2     3     4     5     6     7     8     9     10  \\\n",
       "AvAR({1,13,25})  0.37  0.57  0.74  0.94  1.13  1.32  1.55  1.76  1.96  2.14   \n",
       "AvAR({2,13,25})  0.37  0.57  0.74  0.93  1.13  1.32  1.54  1.75  1.95  2.12   \n",
       "\n",
       "                   11    12  \n",
       "AvAR({1,13,25})  2.33  2.54  \n",
       "AvAR({2,13,25})  2.31  2.51  "
      ]
     },
     "execution_count": 26,
     "metadata": {},
     "output_type": "execute_result"
    }
   ],
   "source": [
    "avar = pd.DataFrame(index=ar_forecasts.index, columns=pd.MultiIndex.from_product([[\"AvAR({1,13,25})\", \"AvAR({2,13,25})\"], range(1, 13)]), dtype=float)\n",
    "avar.loc[:, \"AvAR({1,13,25})\"] = (ar_forecasts[\"AR(1)\"].to_numpy() + ar_forecasts[\"AR(13)\"].to_numpy() + ar_forecasts[\"AR(25)\"].to_numpy()) / 3\n",
    "avar.loc[:, \"AvAR({2,13,25})\"] = (ar_forecasts[\"AR(2)\"].to_numpy() + ar_forecasts[\"AR(13)\"].to_numpy() + ar_forecasts[\"AR(25)\"].to_numpy()) / 3\n",
    "avar.to_csv(\"results/benchmarks/avar_forecasts.csv\")\n",
    "np.round(compute_rmse_df(avar).T, 2)"
   ]
  },
  {
   "cell_type": "markdown",
   "metadata": {},
   "source": [
    "## Random Walks"
   ]
  },
  {
   "cell_type": "code",
   "execution_count": 19,
   "metadata": {},
   "outputs": [],
   "source": [
    "from methodology.rw_forecasts import rolling_rw_forecast"
   ]
  },
  {
   "cell_type": "code",
   "execution_count": 27,
   "metadata": {},
   "outputs": [
    {
     "data": {
      "text/html": [
       "<div>\n",
       "<style scoped>\n",
       "    .dataframe tbody tr th:only-of-type {\n",
       "        vertical-align: middle;\n",
       "    }\n",
       "\n",
       "    .dataframe tbody tr th {\n",
       "        vertical-align: top;\n",
       "    }\n",
       "\n",
       "    .dataframe thead th {\n",
       "        text-align: right;\n",
       "    }\n",
       "</style>\n",
       "<table border=\"1\" class=\"dataframe\">\n",
       "  <thead>\n",
       "    <tr style=\"text-align: right;\">\n",
       "      <th></th>\n",
       "      <th>1</th>\n",
       "      <th>2</th>\n",
       "      <th>3</th>\n",
       "      <th>4</th>\n",
       "      <th>5</th>\n",
       "      <th>6</th>\n",
       "      <th>7</th>\n",
       "      <th>8</th>\n",
       "      <th>9</th>\n",
       "      <th>10</th>\n",
       "      <th>11</th>\n",
       "      <th>12</th>\n",
       "    </tr>\n",
       "  </thead>\n",
       "  <tbody>\n",
       "    <tr>\n",
       "      <th>RW(1)</th>\n",
       "      <td>0.43</td>\n",
       "      <td>0.66</td>\n",
       "      <td>0.88</td>\n",
       "      <td>1.10</td>\n",
       "      <td>1.33</td>\n",
       "      <td>1.56</td>\n",
       "      <td>1.79</td>\n",
       "      <td>2.01</td>\n",
       "      <td>2.22</td>\n",
       "      <td>2.41</td>\n",
       "      <td>2.60</td>\n",
       "      <td>2.79</td>\n",
       "    </tr>\n",
       "    <tr>\n",
       "      <th>RW(4)</th>\n",
       "      <td>0.73</td>\n",
       "      <td>0.96</td>\n",
       "      <td>1.19</td>\n",
       "      <td>1.42</td>\n",
       "      <td>1.65</td>\n",
       "      <td>1.87</td>\n",
       "      <td>2.08</td>\n",
       "      <td>2.28</td>\n",
       "      <td>2.48</td>\n",
       "      <td>2.66</td>\n",
       "      <td>2.84</td>\n",
       "      <td>3.00</td>\n",
       "    </tr>\n",
       "  </tbody>\n",
       "</table>\n",
       "</div>"
      ],
      "text/plain": [
       "         1     2     3     4     5     6     7     8     9     10    11    12\n",
       "RW(1)  0.43  0.66  0.88  1.10  1.33  1.56  1.79  2.01  2.22  2.41  2.60  2.79\n",
       "RW(4)  0.73  0.96  1.19  1.42  1.65  1.87  2.08  2.28  2.48  2.66  2.84  3.00"
      ]
     },
     "execution_count": 27,
     "metadata": {},
     "output_type": "execute_result"
    }
   ],
   "source": [
    "rw_forecasts = pd.concat([rolling_rw_forecast(inflation_rate, q=q, h=12, start=\"2009-12-01\", end=\"2024-11-01\") for q in [1, 4]], axis=1)\n",
    "rw_forecasts.to_csv(\"results/benchmarks/rw_forecasts.csv\")\n",
    "np.round(compute_rmse_df(rw_forecasts).T, 2)"
   ]
  },
  {
   "cell_type": "markdown",
   "metadata": {},
   "source": [
    "## Bank of England"
   ]
  },
  {
   "cell_type": "code",
   "execution_count": 21,
   "metadata": {},
   "outputs": [],
   "source": [
    "from methodology.bank_of_england import rmse_vs_bank, mape_vs_bank"
   ]
  },
  {
   "cell_type": "code",
   "execution_count": 28,
   "metadata": {},
   "outputs": [
    {
     "data": {
      "text/html": [
       "<div>\n",
       "<style scoped>\n",
       "    .dataframe tbody tr th:only-of-type {\n",
       "        vertical-align: middle;\n",
       "    }\n",
       "\n",
       "    .dataframe tbody tr th {\n",
       "        vertical-align: top;\n",
       "    }\n",
       "\n",
       "    .dataframe thead th {\n",
       "        text-align: right;\n",
       "    }\n",
       "</style>\n",
       "<table border=\"1\" class=\"dataframe\">\n",
       "  <thead>\n",
       "    <tr style=\"text-align: right;\">\n",
       "      <th></th>\n",
       "      <th>1</th>\n",
       "      <th>2</th>\n",
       "      <th>3</th>\n",
       "      <th>4</th>\n",
       "      <th>5</th>\n",
       "      <th>6</th>\n",
       "    </tr>\n",
       "  </thead>\n",
       "  <tbody>\n",
       "    <tr>\n",
       "      <th>BoE</th>\n",
       "      <td>0.173753</td>\n",
       "      <td>0.31743</td>\n",
       "      <td>0.484517</td>\n",
       "      <td>0.854409</td>\n",
       "      <td>0.929243</td>\n",
       "      <td>0.920107</td>\n",
       "    </tr>\n",
       "    <tr>\n",
       "      <th>AvAR({1,13,25})</th>\n",
       "      <td>0.731368</td>\n",
       "      <td>0.887221</td>\n",
       "      <td>0.983087</td>\n",
       "      <td>1.084853</td>\n",
       "      <td>1.129389</td>\n",
       "      <td>1.082098</td>\n",
       "    </tr>\n",
       "    <tr>\n",
       "      <th>AvAR({2,13,25})</th>\n",
       "      <td>0.721823</td>\n",
       "      <td>0.879979</td>\n",
       "      <td>0.975922</td>\n",
       "      <td>1.02584</td>\n",
       "      <td>1.061485</td>\n",
       "      <td>0.995331</td>\n",
       "    </tr>\n",
       "  </tbody>\n",
       "</table>\n",
       "</div>"
      ],
      "text/plain": [
       "                        1         2         3         4         5         6\n",
       "BoE              0.173753   0.31743  0.484517  0.854409  0.929243  0.920107\n",
       "AvAR({1,13,25})  0.731368  0.887221  0.983087  1.084853  1.129389  1.082098\n",
       "AvAR({2,13,25})  0.721823  0.879979  0.975922   1.02584  1.061485  0.995331"
      ]
     },
     "execution_count": 28,
     "metadata": {},
     "output_type": "execute_result"
    }
   ],
   "source": [
    "np.round(rmse_vs_bank(avar).T, 2)"
   ]
  },
  {
   "cell_type": "code",
   "execution_count": 29,
   "metadata": {},
   "outputs": [
    {
     "data": {
      "text/html": [
       "<div>\n",
       "<style scoped>\n",
       "    .dataframe tbody tr th:only-of-type {\n",
       "        vertical-align: middle;\n",
       "    }\n",
       "\n",
       "    .dataframe tbody tr th {\n",
       "        vertical-align: top;\n",
       "    }\n",
       "\n",
       "    .dataframe thead th {\n",
       "        text-align: right;\n",
       "    }\n",
       "</style>\n",
       "<table border=\"1\" class=\"dataframe\">\n",
       "  <thead>\n",
       "    <tr style=\"text-align: right;\">\n",
       "      <th></th>\n",
       "      <th>1</th>\n",
       "      <th>2</th>\n",
       "      <th>3</th>\n",
       "      <th>4</th>\n",
       "      <th>5</th>\n",
       "      <th>6</th>\n",
       "    </tr>\n",
       "  </thead>\n",
       "  <tbody>\n",
       "    <tr>\n",
       "      <th>BoE</th>\n",
       "      <td>3.963889</td>\n",
       "      <td>7.075407</td>\n",
       "      <td>8.71433</td>\n",
       "      <td>8.244786</td>\n",
       "      <td>8.423779</td>\n",
       "      <td>9.581523</td>\n",
       "    </tr>\n",
       "    <tr>\n",
       "      <th>AvAR({1,13,25})</th>\n",
       "      <td>12.463687</td>\n",
       "      <td>18.587589</td>\n",
       "      <td>15.326783</td>\n",
       "      <td>15.047872</td>\n",
       "      <td>14.802401</td>\n",
       "      <td>15.646697</td>\n",
       "    </tr>\n",
       "    <tr>\n",
       "      <th>AvAR({2,13,25})</th>\n",
       "      <td>12.260634</td>\n",
       "      <td>18.699067</td>\n",
       "      <td>15.248258</td>\n",
       "      <td>14.439097</td>\n",
       "      <td>14.198918</td>\n",
       "      <td>14.825612</td>\n",
       "    </tr>\n",
       "  </tbody>\n",
       "</table>\n",
       "</div>"
      ],
      "text/plain": [
       "                         1          2          3          4          5  \\\n",
       "BoE               3.963889   7.075407    8.71433   8.244786   8.423779   \n",
       "AvAR({1,13,25})  12.463687  18.587589  15.326783  15.047872  14.802401   \n",
       "AvAR({2,13,25})  12.260634  18.699067  15.248258  14.439097  14.198918   \n",
       "\n",
       "                         6  \n",
       "BoE               9.581523  \n",
       "AvAR({1,13,25})  15.646697  \n",
       "AvAR({2,13,25})  14.825612  "
      ]
     },
     "execution_count": 29,
     "metadata": {},
     "output_type": "execute_result"
    }
   ],
   "source": [
    "np.round(mape_vs_bank(avar).T, 2)"
   ]
  },
  {
   "cell_type": "code",
   "execution_count": null,
   "metadata": {},
   "outputs": [],
   "source": []
  }
 ],
 "metadata": {
  "kernelspec": {
   "display_name": "base",
   "language": "python",
   "name": "python3"
  },
  "language_info": {
   "codemirror_mode": {
    "name": "ipython",
    "version": 3
   },
   "file_extension": ".py",
   "mimetype": "text/x-python",
   "name": "python",
   "nbconvert_exporter": "python",
   "pygments_lexer": "ipython3",
   "version": "3.10.14"
  }
 },
 "nbformat": 4,
 "nbformat_minor": 2
}
